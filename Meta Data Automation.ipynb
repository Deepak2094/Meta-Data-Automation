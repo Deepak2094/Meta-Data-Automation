{
 "cells": [
  {
   "cell_type": "markdown",
   "metadata": {},
   "source": [
    "# Meta Data Automation"
   ]
  },
  {
   "cell_type": "code",
   "execution_count": 1,
   "metadata": {},
   "outputs": [],
   "source": [
    "#Importing Modules\n",
    "import xml.etree.ElementTree as ET\n",
    "from datetime import date"
   ]
  },
  {
   "cell_type": "markdown",
   "metadata": {},
   "source": [
    "#### Input and Output Path Declaration"
   ]
  },
  {
   "cell_type": "code",
   "execution_count": 2,
   "metadata": {},
   "outputs": [],
   "source": [
    "InputPath =\"/Users/deepak/Documents/GRA/Meta Data Automation/\"\n",
    "InputFileName =\"Public_Parks_Original.xml\"\n",
    "\n",
    "OutputPath = InputPath + \"Updated File/\"\n",
    "OutputFileName = OutputPath + \"Public_Parks.xml\""
   ]
  },
  {
   "cell_type": "markdown",
   "metadata": {},
   "source": [
    "## Declaraing Variables to be Updated in respective Tabs"
   ]
  },
  {
   "cell_type": "code",
   "execution_count": 3,
   "metadata": {},
   "outputs": [],
   "source": [
    "# Tab 1. Identification Info\n",
    "\n",
    "county=\"Arlington County\" # Specify the County or City for which the Meta data is being updated\n",
    "Stateabb=\"VA\" #State Abbreviation\n",
    "StateFF=\"Virginia\" #State Full form\n",
    "Year=\"2009\" #Year in which the Meta Data was created/Updated\n",
    "CD_Obtained_Date =\"2011\" # The year in which the Dataset was copied from the CD\n",
    "\n",
    "pubdate=Year\n",
    "ID_title= \"Enter Title here\"+ \",\" + \" \" + county +\",\" + \" \" + Stateabb + \" \" + Year\n",
    "ID_accconst= \"None, Please see 'Distribution Info' for details\"\n",
    "ID_abstract=\"This dataset represents the County Parks in\" + \" \" + county +\",\" + \" \" + Stateabb + \" \" + Year\n",
    "ID_purpose=\"This dataset is intended for researchers, students, and policy makers for reference and mapping purposes,and may be used for basic applications such as viewing, querying, and map output production, or to provide a base map to support graphical overlays and analysis with other spatial data\"\n",
    "ID_useconst=\"None. Users are advised to read the data set's metadata thoroughly to understand appropriate use and data limitations.\"\n",
    "\n",
    "ID_cntorg=\"Arlington County DES GIS Mapping Center\"\n",
    "ID_cntper=\"\"\n",
    "ID_cntpos=\"Cartographer\"\n",
    "ID_cntvoice=\"703-993-2240\"\n",
    "ID_addrtype=\"mailing and physical\"\n",
    "ID_address=\"2100 Clarendon Blvd Suite 813\"\n",
    "ID_city=\"Arlington\"\n",
    "ID_state=\"VA\"\n",
    "ID_postal=\"22201\"\n",
    "ID_cntemail=\"gismc@arlingtonva.us\"\n",
    "\n",
    "# Theme Keywords\n",
    "MainKeyword=\"Recreation\"\n",
    "Keyword1=\"Parks\"\n",
    "Keyword2=\"Public\"\n",
    "\n",
    "#Tab 2. Data Quality\n",
    "DQ_attraccr=\"No formal attribute accuracy tests were conducted\"\n",
    "DQ_logic=\"No formal logical accuracy tests were conducted\"\n",
    "DQ_complete=\"Data set is considered complete for the information presented, as described in the abstract. Users are advised to read the rest of the metadata record carefully for additional details\"\n",
    "DQ_horizpar=\"A formal accuracy assessment of the horizontal positional information in the data set has either not been conducted, or is not applicable.\"\n",
    "DQ_vertaccr=\"A formal accuracy assessment of the vertical positional information in the data set has either not been conducted, or is not applicable\"\n",
    "DQ_procdesc=\"Dataset copied from the cd obtained from\" + \" \" + county +\",\" + \" \" + Stateabb + \" \" + CD_Obtained_Date\n",
    "DQ_procdate=\"Unknown\"\n",
    "\n",
    "# Tab 3 and 4 Have to be updated Manually\n",
    "\n",
    "# Tab 5. Distribution Info\n",
    "# For Tab 5 the duplicate Variables are not declared here; rather it is declared in Tab 6 below\n",
    "DI_distliab = \"Distributor assumes no liability for misuse of data.\"\n",
    "DI_fees = \"None. No fees are applicable for obtaining the data set\"\n",
    "\n",
    "# Tab 6. Meta Info\n",
    "MI_cntorg=\"George Mason University Libraries\"\n",
    "MI_cntper= \"Digital Scholarship Center\"\n",
    "MI_cntvoice=\"703-993-2240\"\n",
    "MI_cntemail=\"datahelp@gmu.edu\"\n",
    "MI_addrtype=\"mailing and physical\"\n",
    "MI_address=\"4400 University Drive\"\n",
    "MI_city=\"Fairfax\"\n",
    "MI_state=\"VA\"\n",
    "MI_postal=\"22030\"\n",
    "MI_metstdn=\"FGDC Content Standards for Digital Geospatial Metadata\"\n",
    "MI_metstdv=\"FGDC-STD-001-1998\"\n",
    "\n",
    "today = date.today() # Getting Current Date\n",
    "Date=today.strftime(\"%Y%m%d\") # Converting Date time to string in Y-m-d format\n",
    "MI_metd=Date # Assinging the current date to variable"
   ]
  },
  {
   "cell_type": "markdown",
   "metadata": {},
   "source": [
    "## Main Code body Starts here\n"
   ]
  },
  {
   "cell_type": "code",
   "execution_count": 4,
   "metadata": {},
   "outputs": [],
   "source": [
    "tree = ET.parse(InputPath+InputFileName)\n",
    "root = tree.getroot()"
   ]
  },
  {
   "cell_type": "code",
   "execution_count": 5,
   "metadata": {},
   "outputs": [
    {
     "name": "stdout",
     "output_type": "stream",
     "text": [
      "idinfo\n",
      "dataqual\n",
      "spdoinfo\n",
      "spref\n",
      "eainfo\n",
      "distinfo\n",
      "metainfo\n"
     ]
    }
   ],
   "source": [
    "for child in root:\n",
    "    print(child.tag)"
   ]
  },
  {
   "cell_type": "markdown",
   "metadata": {},
   "source": [
    "### Tab 1:Identification Info"
   ]
  },
  {
   "cell_type": "code",
   "execution_count": 6,
   "metadata": {},
   "outputs": [],
   "source": [
    "tree.find('idinfo/citation/citeinfo/title').text = ID_cntorg \n",
    "tree.find('idinfo/citation/citeinfo/pubdate').text = pubdate   \n",
    "tree.find('idinfo/accconst').text = ID_accconst \n",
    "tree.find('idinfo/useconst').text = ID_useconst \n",
    "tree.find('idinfo/descript/abstract').text = ID_abstract \n",
    "tree.find('idinfo/descript/purpose').text = ID_purpose "
   ]
  },
  {
   "cell_type": "code",
   "execution_count": 7,
   "metadata": {},
   "outputs": [],
   "source": [
    "POC = tree.find('idinfo/ptcontac')\n",
    "for child in list(POC):\n",
    "    POC.remove(child)\n",
    "        \n",
    "ptcontac = tree.find('idinfo/ptcontac')\n",
    "cntinfo = ET.SubElement(ptcontac, 'cntinfo')\n",
    "cntorgp = ET.SubElement(cntinfo, 'cntorgp')\n",
    "cntorg = ET.SubElement(cntorgp, 'cntorg')\n",
    "cntper = ET.SubElement(cntorgp, 'cntper')\n",
    "cntorg.text = ID_cntorg\n",
    "cntper.text = ID_cntper\n",
    "cntpos = ET.SubElement(cntinfo,'cntpos')\n",
    "cntpos.text=ID_cntpos\n",
    "cntaddr = ET.SubElement(cntinfo, 'cntaddr')\n",
    "addrtype = ET.SubElement(cntinfo, 'addrtype')\n",
    "address = ET.SubElement(cntinfo, 'address')\n",
    "city = ET.SubElement(cntinfo, 'city')\n",
    "state = ET.SubElement(cntinfo, 'state')\n",
    "postal = ET.SubElement(cntinfo, 'postal')\n",
    "addrtype.text = ID_addrtype\n",
    "address.text = ID_address\n",
    "city.text = ID_city\n",
    "state.text = ID_state\n",
    "postal.text =ID_postal\n",
    "cntvoice = ET.SubElement(cntinfo, 'cntvoice')\n",
    "cntvoice.text = ID_cntvoice\n",
    "cntemail = ET.SubElement(cntinfo, 'cntemail')\n",
    "cntemail.text = ID_cntemail"
   ]
  },
  {
   "cell_type": "code",
   "execution_count": 8,
   "metadata": {},
   "outputs": [],
   "source": [
    "KW = tree.find('idinfo/keywords')\n",
    "for child in list(KW):\n",
    "    KW.remove(child)\n",
    "    \n",
    "keywords = tree.find('idinfo/keywords')\n",
    "\n",
    "theme = ET.SubElement(keywords, 'theme')\n",
    "themekt = ET.SubElement(theme, 'themekt')\n",
    "themekt.text=MainKeyword\n",
    "themekey=ET.SubElement(theme, 'themekey')\n",
    "themekey.text=Keyword1\n",
    "themekey=ET.SubElement(theme, 'themekey')\n",
    "themekey.text=Keyword2\n",
    "\n",
    "place = ET.SubElement(keywords, 'place')\n",
    "placekt = ET.SubElement(place, 'placekt')\n",
    "placekt.text=county +\",\" +\" \"+ Stateabb\n",
    "placekey=ET.SubElement(place, 'placekey')\n",
    "placekey.text=StateFF\n",
    "placekey=ET.SubElement(place, 'placekey')\n",
    "placekey.text=Stateabb"
   ]
  },
  {
   "cell_type": "markdown",
   "metadata": {},
   "source": [
    "### Tab 2: Data Quality"
   ]
  },
  {
   "cell_type": "code",
   "execution_count": 9,
   "metadata": {},
   "outputs": [],
   "source": [
    "tree.find('dataqual/attracc/attraccr').text = DQ_attraccr   \n",
    "tree.find('dataqual/logic').text = DQ_logic\n",
    "tree.find('dataqual/complete').text = DQ_complete\n",
    "tree.find('dataqual/posacc/horizpa/horizpar').text = DQ_horizpar\n",
    "tree.find('dataqual/lineage/procstep/procdate').text = DQ_procdate \n",
    "tree.find('dataqual/lineage/procstep/procdesc').text = DQ_procdesc \n",
    "tree.find('dataqual/posacc/horizpa/horizpar').text = DQ_horizpar"
   ]
  },
  {
   "cell_type": "markdown",
   "metadata": {},
   "source": [
    "### Tab 5 : Distribution Info Update"
   ]
  },
  {
   "cell_type": "code",
   "execution_count": 10,
   "metadata": {},
   "outputs": [],
   "source": [
    "Distributioninfo = root.find('distinfo')\n",
    "for child in list(Distributioninfo):\n",
    "    Distributioninfo.remove(child)\n",
    "root.remove(Distributioninfo)"
   ]
  },
  {
   "cell_type": "code",
   "execution_count": 11,
   "metadata": {},
   "outputs": [],
   "source": [
    "distinfo = ET.Element(\"distinfo\")\n",
    "distrib = ET.SubElement(distinfo,'distrib')\n",
    "cntinfo = ET.SubElement(distrib, 'cntinfo')\n",
    "cntorgp = ET.SubElement(cntinfo, 'cntorgp')\n",
    "cntorg = ET.SubElement(cntorgp, 'cntorg')\n",
    "cntper = ET.SubElement(cntorgp, 'cntper')\n",
    "cntorg.text = MI_cntorg\n",
    "cntper.text = MI_cntper\n",
    "cntaddr = ET.SubElement(cntinfo, 'cntaddr')\n",
    "addrtype = ET.SubElement(cntinfo, 'addrtype')\n",
    "address = ET.SubElement(cntinfo, 'address')\n",
    "city = ET.SubElement(cntinfo, 'city')\n",
    "state = ET.SubElement(cntinfo, 'state')\n",
    "postal = ET.SubElement(cntinfo, 'postal')\n",
    "addrtype.text = MI_addrtype\n",
    "address.text = MI_address\n",
    "city.text = MI_city\n",
    "state.text = MI_state\n",
    "postal.text =MI_postal\n",
    "cntvoice = ET.SubElement(cntinfo,'cntvoice')\n",
    "cntvoice.text = MI_cntvoice\n",
    "cntemail = ET.SubElement(cntinfo,'cntemail')\n",
    "cntemail.text = MI_cntemail\n",
    "distliab = ET.SubElement(distinfo,'distliab')\n",
    "distliab.text = DI_distliab\n",
    "stdorder = ET.SubElement(distinfo,'stdorder')\n",
    "digform = ET.SubElement(stdorder,'digform')\n",
    "digtinfo=ET.SubElement(digform,'digform')\n",
    "formname=ET.SubElement(digtinfo,'formname')\n",
    "formname.text = \"Digital Data\"\n",
    "digtopt=ET.SubElement(digform,'digtopt')\n",
    "onlinopt=ET.SubElement(digtopt,'onlinopt')\n",
    "computer=ET.SubElement(onlinopt,'computer')\n",
    "networka=ET.SubElement(computer,'networka')\n",
    "networkr=ET.SubElement(networka,'networkr')\n",
    "fees=ET.SubElement(stdorder,'fees')\n",
    "fees.text=DI_fees\n",
    "resdesc = ET.SubElement(distinfo,'resdesc')\n",
    "resdesc.text = \"Downloadable Data\"\n",
    "resdesc.set('Sync',\"TRUE\")\n",
    "\n",
    "root.append(distinfo)"
   ]
  },
  {
   "cell_type": "markdown",
   "metadata": {},
   "source": [
    "### Tab 6 : Meta Data Info Update"
   ]
  },
  {
   "cell_type": "code",
   "execution_count": 12,
   "metadata": {},
   "outputs": [],
   "source": [
    "Metadatainfo = root.find('metainfo')\n",
    "for child in list(Metadatainfo):\n",
    "    Metadatainfo.remove(child)\n",
    "root.remove(Metadatainfo)"
   ]
  },
  {
   "cell_type": "code",
   "execution_count": 13,
   "metadata": {
    "scrolled": true
   },
   "outputs": [],
   "source": [
    "metainfo = ET.Element(\"metainfo\")\n",
    "metd = ET.SubElement(metainfo,'metd')\n",
    "metd.text = MI_metd\n",
    "metc = ET.SubElement(metainfo, 'metc')\n",
    "cntinfo = ET.SubElement(metc, 'cntinfo')\n",
    "cntorgp = ET.SubElement(cntinfo, 'cntorgp')\n",
    "cntorg = ET.SubElement(cntorgp, 'cntorg')\n",
    "cntper = ET.SubElement(cntorgp, 'cntper')\n",
    "cntorg.text = MI_cntorg\n",
    "cntper.text = MI_cntper\n",
    "cntaddr = ET.SubElement(cntinfo, 'cntaddr')\n",
    "addrtype = ET.SubElement(cntinfo, 'addrtype')\n",
    "address = ET.SubElement(cntinfo, 'address')\n",
    "city = ET.SubElement(cntinfo, 'city')\n",
    "state = ET.SubElement(cntinfo, 'state')\n",
    "postal = ET.SubElement(cntinfo, 'postal')\n",
    "addrtype.text = MI_addrtype\n",
    "address.text = MI_address\n",
    "city.text = MI_city\n",
    "state.text = MI_state\n",
    "postal.text=MI_postal\n",
    "cntvoice = ET.SubElement(cntinfo, 'cntvoice')\n",
    "cntvoice.text = MI_cntvoice\n",
    "cntemail = ET.SubElement(cntinfo, 'cntemail')\n",
    "cntemail.text = MI_cntemail\n",
    "metstdn = ET.SubElement(metainfo,'metstdn')\n",
    "metstdn.text = MI_metstdn\n",
    "metstdv = ET.SubElement(metainfo,'metstdv')\n",
    "metstdv.text = MI_metstdv\n",
    "mettc = ET.SubElement(metainfo,'mettc')\n",
    "mettc.text = \"local time\"\n",
    "mettc.set('Sync',\"TRUE\")\n",
    "root.append(metainfo)"
   ]
  },
  {
   "cell_type": "code",
   "execution_count": 15,
   "metadata": {},
   "outputs": [],
   "source": [
    "tree.write(InputPath +\"out.xml\")"
   ]
  },
  {
   "cell_type": "code",
   "execution_count": null,
   "metadata": {},
   "outputs": [],
   "source": []
  }
 ],
 "metadata": {
  "kernelspec": {
   "display_name": "Python 3",
   "language": "python",
   "name": "python3"
  },
  "language_info": {
   "codemirror_mode": {
    "name": "ipython",
    "version": 3
   },
   "file_extension": ".py",
   "mimetype": "text/x-python",
   "name": "python",
   "nbconvert_exporter": "python",
   "pygments_lexer": "ipython3",
   "version": "3.7.4"
  }
 },
 "nbformat": 4,
 "nbformat_minor": 2
}
