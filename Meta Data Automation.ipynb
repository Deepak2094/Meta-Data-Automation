{
 "cells": [
  {
   "cell_type": "markdown",
   "metadata": {},
   "source": [
    "# Meta Data Automation"
   ]
  },
  {
   "cell_type": "code",
   "execution_count": 1,
   "metadata": {},
   "outputs": [],
   "source": [
    "## Importing Modules\n",
    "import xml.etree.ElementTree as ET\n",
    "from datetime import date"
   ]
  },
  {
   "cell_type": "markdown",
   "metadata": {},
   "source": [
    "#### Input and Output Path Declaration"
   ]
  },
  {
   "cell_type": "code",
   "execution_count": 2,
   "metadata": {},
   "outputs": [],
   "source": [
    "InputPath =\"/Users/deepak/Documents/GRA/Meta Data Automation/\"\n",
    "InputFileName =\"Public_Parks.xml\"\n",
    "\n",
    "OutputPath = InputPath + \"Updated File/\"\n",
    "OutputFileName =\"Public_Parks.xml\""
   ]
  },
  {
   "cell_type": "markdown",
   "metadata": {},
   "source": [
    "## Declaraion of  Variables to be Updated in respective Tabs"
   ]
  },
  {
   "cell_type": "code",
   "execution_count": 81,
   "metadata": {},
   "outputs": [],
   "source": [
    "# Tab 1. Identification Info\n",
    "\n",
    "# Specify the County or City for which the Meta data is being updated\n",
    "county=\"Arlington County\" \n",
    "Stateabb=\"VA\" # State Abbreviation\n",
    "StateFF=\"Virginia\" # State Full form\n",
    "Year=\"2009\" # Year in which the Meta Data was created/Updated\n",
    "\n",
    "pubdate=Year\n",
    "accconst= \"None, Please see “Distribution Info” for details\"\n",
    "abstract=\"This dataset represents the County Parks in\" + \" \" + county + \" \" + Stateabb + \" \" + Year\n",
    "purpose=\"This dataset is intended for researchers, students, and policy makers for reference and mapping purposes,and may be used for basic applications such as viewing, querying, and map output production, or to provide a base map to support graphical overlays and analysis with other spatial data\"\n",
    "useconst=\"None. Users are advised to read the data set's metadata thoroughly to understand appropriate use and data limitations.\"\n",
    "\n",
    "ID_cntorg=\"Arlington County DES GIS Mapping Center\"\n",
    "ID_cntpos=\"Cartographer\"\n",
    "ID_addrtype=\"mailing and physical\"\n",
    "ID_address=\"2100 Clarendon Blvd Suite 813\"\n",
    "ID_city=\"Arlington\"\n",
    "ID_state=\"VA\"\n",
    "ID_postal=\"22201\"\n",
    "ID_cntemail=\"gismc@arlingtonva.us\"\n",
    "\n",
    "#Tab 2. Data Quality\n",
    "attraccr=\"No formal attribute accuracy tests were conducted\"\n",
    "logic=\"No formal logical accuracy tests were conducted\"\n",
    "complete=\"Data set is considered complete for the information presented, as described in the abstract. Users are advised to read the rest of the metadata record carefully for additional details\"\n",
    "horizpar=\"A formal accuracy assessment of the horizontal positional information in the data set has either not been conducted, or is not applicable.\"\n",
    "vertaccr=\"A formal accuracy assessment of the vertical positional information in the data set has either not been conducted, or is not applicable\"\n",
    "\n",
    "# Tab 5. Distribution Info\n",
    "# For Tab 5 the duplicate Variables are not declared here; rather it is declared in Tab 6 below\n",
    "distliab = \"Distributor assumes no liability for misuse of data.\"\n",
    "fees = \"None. No fees are applicable for obtaining the data set\"\n",
    "\n",
    "\n",
    "# Tab 6. Meta Info\n",
    "cntorg=\"George Mason University Libraries\"\n",
    "cntper= \"Digital Scholarship Center\"\n",
    "cntvoice=\"703-993-2240\"\n",
    "cntemail=\"datahelp@gmu.edu\"\n",
    "addrtype=\"mailing and physical\"\n",
    "address=\"4400 University Drive\"\n",
    "city=\"Fairfax\"\n",
    "state=\"VA\"\n",
    "postal=\"22030\"\n",
    "\n",
    "\n",
    "today = date.today() # Getting Current Date\n",
    "Date=today.strftime(\"%Y%m%d\") # Converting Date time to string in Y-m-d format\n",
    "metd=Date # Assinging the current date to variable"
   ]
  },
  {
   "cell_type": "code",
   "execution_count": 82,
   "metadata": {},
   "outputs": [
    {
     "name": "stdout",
     "output_type": "stream",
     "text": [
      "20200530\n"
     ]
    }
   ],
   "source": [
    "print(metd)"
   ]
  },
  {
   "cell_type": "markdown",
   "metadata": {},
   "source": [
    "## Main Code body Starts here"
   ]
  },
  {
   "cell_type": "code",
   "execution_count": 83,
   "metadata": {},
   "outputs": [],
   "source": [
    "tree = ET.parse(InputPath+InputFileName)\n",
    "root = tree.getroot()"
   ]
  },
  {
   "cell_type": "code",
   "execution_count": 84,
   "metadata": {},
   "outputs": [
    {
     "name": "stdout",
     "output_type": "stream",
     "text": [
      "idinfo\n",
      "dataqual\n",
      "spref\n",
      "eainfo\n",
      "distinfo\n",
      "metainfo\n"
     ]
    }
   ],
   "source": [
    "for child in root:\n",
    "    print(child.tag)"
   ]
  },
  {
   "cell_type": "markdown",
   "metadata": {},
   "source": [
    "### Tab 6 : Meta Data Info Update"
   ]
  },
  {
   "cell_type": "code",
   "execution_count": 85,
   "metadata": {},
   "outputs": [],
   "source": [
    "Metainfo = root.find('metainfo')\n",
    "for child in list(Metainfo):\n",
    "    Metainfo.remove(child)\n",
    "root.remove(Metainfo);"
   ]
  },
  {
   "cell_type": "code",
   "execution_count": 86,
   "metadata": {},
   "outputs": [],
   "source": [
    "metainfo = ET.Element(\"metainfo\")\n",
    "# a.text = \"1\"\n",
    "metdtag = ET.SubElement(metainfo, 'metd')\n",
    "metdtag.text = metd\n",
    "metc = ET.SubElement(metainfo, 'metc')\n",
    "cntinfo = ET.SubElement(metc, 'cntinfo')\n",
    "cntorgp = ET.SubElement(cntinfo, 'cntorgp')\n",
    "cntorgtag = ET.SubElement(cntorgp, 'cntorgtag')\n",
    "cntpertag = ET.SubElement(cntorgp, 'cntpertag')\n",
    "cntorgtag.text = cntorg\n",
    "cntpertag.text = cntper\n",
    "root.append(metainfo)"
   ]
  },
  {
   "cell_type": "code",
   "execution_count": 87,
   "metadata": {},
   "outputs": [],
   "source": [
    "tree.write(InputPath +'out.xml')"
   ]
  },
  {
   "cell_type": "code",
   "execution_count": null,
   "metadata": {},
   "outputs": [],
   "source": []
  },
  {
   "cell_type": "code",
   "execution_count": null,
   "metadata": {},
   "outputs": [],
   "source": []
  }
 ],
 "metadata": {
  "kernelspec": {
   "display_name": "Python 3",
   "language": "python",
   "name": "python3"
  },
  "language_info": {
   "codemirror_mode": {
    "name": "ipython",
    "version": 3
   },
   "file_extension": ".py",
   "mimetype": "text/x-python",
   "name": "python",
   "nbconvert_exporter": "python",
   "pygments_lexer": "ipython3",
   "version": "3.7.4"
  }
 },
 "nbformat": 4,
 "nbformat_minor": 2
}
